{
 "cells": [
  {
   "cell_type": "code",
   "execution_count": 1,
   "id": "002617b0",
   "metadata": {},
   "outputs": [
    {
     "name": "stdout",
     "output_type": "stream",
     "text": [
      "Enter a choice (rock, paper, scissors): scissors\n",
      "Player: scissors\n",
      "Computer: rock\n",
      "You lose!\n",
      "Play again? (y/n): y\n",
      "Enter a choice (rock, paper, scissors): papaer\n",
      "Enter a choice (rock, paper, scissors): paper\n",
      "Player: paper\n",
      "Computer: rock\n",
      "You win!\n",
      "Play again? (y/n): n\n",
      "Thanks for playing!\n"
     ]
    }
   ],
   "source": [
    "import random\n",
    "\n",
    "\n",
    "options = (\"rock\", \"paper\", \"scissors\")\n",
    "running = True\n",
    "\n",
    "while running:\n",
    "\n",
    "    player = None\n",
    "    computer = random.choice(options)\n",
    "\n",
    "    while player not in options:\n",
    "        player = input(\"Enter a choice (rock, paper, scissors): \")\n",
    "\n",
    "    print(f\"Player: {player}\")\n",
    "    print(f\"Computer: {computer}\")\n",
    "\n",
    "    if player == computer:\n",
    "        print(\"It's a tie!\")\n",
    "        \n",
    "    elif player == \"rock\" and computer == \"scissors\":\n",
    "        print(\"You win!\")\n",
    "        \n",
    "    elif player == \"paper\" and computer == \"rock\":\n",
    "        print(\"You win!\")\n",
    "        \n",
    "    elif player == \"scissors\" and computer == \"paper\":\n",
    "        print(\"You win!\")\n",
    "        \n",
    "    else:\n",
    "        print(\"You lose!\")\n",
    "        \n",
    "\n",
    "    if not input(\"Play again? (y/n): \").lower() == \"y\":\n",
    "        running = False\n",
    "\n",
    "print(\"Thanks for playing!\")"
   ]
  }
 ],
 "metadata": {
  "kernelspec": {
   "display_name": "Python 3 (ipykernel)",
   "language": "python",
   "name": "python3"
  },
  "language_info": {
   "codemirror_mode": {
    "name": "ipython",
    "version": 3
   },
   "file_extension": ".py",
   "mimetype": "text/x-python",
   "name": "python",
   "nbconvert_exporter": "python",
   "pygments_lexer": "ipython3",
   "version": "3.11.1"
  }
 },
 "nbformat": 4,
 "nbformat_minor": 5
}
